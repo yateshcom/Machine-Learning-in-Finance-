{
  "nbformat": 4,
  "nbformat_minor": 0,
  "metadata": {
    "colab": {
      "name": "Auquan_Yatish_ML_Engg.ipynb",
      "provenance": [],
      "collapsed_sections": [],
      "toc_visible": true
    },
    "kernelspec": {
      "name": "python3",
      "display_name": "Python 3"
    },
    "accelerator": "GPU"
  },
  "cells": [
    {
      "cell_type": "markdown",
      "metadata": {
        "id": "VqT2NUewQUFP"
      },
      "source": [
        "## **Quick Overview**\n",
        "\n",
        "1. Data Loading\n",
        "2. Apply K-Means Clustering, so that similar company grouped in a same cluster.\n",
        "3. Merge the dataset of the company which are in same cluster.\n",
        "4. Separate the class label from the dataset ie. Revenue, income class label. And fill the 'inf' value with the '0' because droping them was not a good idea since we already have less data and so model will not be able to train so well.\n",
        "5. Since we have more than 300 features so after applying PCA, we reduced the dimension and using covariance graph, I figure out only 5-12 feature are important for each clusters.\n",
        "6. Created Two function to train a model for revenue and income prediction."
      ]
    },
    {
      "cell_type": "code",
      "metadata": {
        "id": "BLqr13KuNC8H",
        "colab": {
          "base_uri": "https://localhost:8080/",
          "height": 1000
        },
        "outputId": "b248c91d-8134-4d1d-a0e9-4c66626367a4"
      },
      "source": [
        "!unzip /content/Recruitment+Problem+Files.zip"
      ],
      "execution_count": null,
      "outputs": [
        {
          "output_type": "stream",
          "text": [
            "Archive:  /content/Recruitment+Problem+Files.zip\n",
            "   creating: Recruitment Problem Files/\n",
            "   creating: Recruitment Problem Files/historicalData/\n",
            "   creating: Recruitment Problem Files/historicalData/qq16p1Data/\n",
            "  inflating: Recruitment Problem Files/historicalData/qq16p1Data/ABT.csv  \n",
            "  inflating: Recruitment Problem Files/historicalData/qq16p1Data/ADBE.csv  \n",
            "  inflating: Recruitment Problem Files/historicalData/qq16p1Data/AMGN.csv  \n",
            "  inflating: Recruitment Problem Files/historicalData/qq16p1Data/AMZN.csv  \n",
            "  inflating: Recruitment Problem Files/historicalData/qq16p1Data/BA.csv  \n",
            "  inflating: Recruitment Problem Files/historicalData/qq16p1Data/BIIB.csv  \n",
            "  inflating: Recruitment Problem Files/historicalData/qq16p1Data/BKNG.csv  \n",
            "  inflating: Recruitment Problem Files/historicalData/qq16p1Data/BMY.csv  \n",
            "  inflating: Recruitment Problem Files/historicalData/qq16p1Data/CAT.csv  \n",
            "  inflating: Recruitment Problem Files/historicalData/qq16p1Data/CELG.csv  \n",
            "  inflating: Recruitment Problem Files/historicalData/qq16p1Data/CL.csv  \n",
            "  inflating: Recruitment Problem Files/historicalData/qq16p1Data/CMCSA.csv  \n",
            "  inflating: Recruitment Problem Files/historicalData/qq16p1Data/COP.csv  \n",
            "  inflating: Recruitment Problem Files/historicalData/qq16p1Data/CVS.csv  \n",
            "  inflating: Recruitment Problem Files/historicalData/qq16p1Data/CVX.csv  \n",
            "  inflating: Recruitment Problem Files/historicalData/qq16p1Data/DHR.csv  \n",
            "  inflating: Recruitment Problem Files/historicalData/qq16p1Data/EMR.csv  \n",
            "  inflating: Recruitment Problem Files/historicalData/qq16p1Data/F.csv  \n",
            "  inflating: Recruitment Problem Files/historicalData/qq16p1Data/FDX.csv  \n",
            "  inflating: Recruitment Problem Files/historicalData/qq16p1Data/GD.csv  \n",
            "  inflating: Recruitment Problem Files/historicalData/qq16p1Data/GE.csv  \n",
            "  inflating: Recruitment Problem Files/historicalData/qq16p1Data/GILD.csv  \n",
            "  inflating: Recruitment Problem Files/historicalData/qq16p1Data/HON.csv  \n",
            "  inflating: Recruitment Problem Files/historicalData/qq16p1Data/IBM.csv  \n",
            "  inflating: Recruitment Problem Files/historicalData/qq16p1Data/INTC.csv  \n",
            "  inflating: Recruitment Problem Files/historicalData/qq16p1Data/JNJ.csv  \n",
            "  inflating: Recruitment Problem Files/historicalData/qq16p1Data/KO.csv  \n",
            "  inflating: Recruitment Problem Files/historicalData/qq16p1Data/LMT.csv  \n",
            "  inflating: Recruitment Problem Files/historicalData/qq16p1Data/MA.csv  \n",
            "  inflating: Recruitment Problem Files/historicalData/qq16p1Data/MCD.csv  \n",
            "  inflating: Recruitment Problem Files/historicalData/qq16p1Data/MDLZ.csv  \n",
            "  inflating: Recruitment Problem Files/historicalData/qq16p1Data/MMM.csv  \n",
            "  inflating: Recruitment Problem Files/historicalData/qq16p1Data/MO.csv  \n",
            "  inflating: Recruitment Problem Files/historicalData/qq16p1Data/MRK.csv  \n",
            "  inflating: Recruitment Problem Files/historicalData/qq16p1Data/MSFT.csv  \n",
            "  inflating: Recruitment Problem Files/historicalData/qq16p1Data/NFLX.csv  \n",
            "  inflating: Recruitment Problem Files/historicalData/qq16p1Data/NVDA.csv  \n",
            "  inflating: Recruitment Problem Files/historicalData/qq16p1Data/OXY.csv  \n",
            "  inflating: Recruitment Problem Files/historicalData/qq16p1Data/PFE.csv  \n",
            "  inflating: Recruitment Problem Files/historicalData/qq16p1Data/PM.csv  \n",
            "  inflating: Recruitment Problem Files/historicalData/qq16p1Data/RTN.csv  \n",
            "  inflating: Recruitment Problem Files/historicalData/qq16p1Data/SLB.csv  \n",
            "  inflating: Recruitment Problem Files/historicalData/qq16p1Data/SPG.csv  \n",
            "  inflating: Recruitment Problem Files/historicalData/qq16p1Data/T.csv  \n",
            "  inflating: Recruitment Problem Files/historicalData/qq16p1Data/TGT.csv  \n",
            "  inflating: Recruitment Problem Files/historicalData/qq16p1Data/TXN.csv  \n",
            "  inflating: Recruitment Problem Files/historicalData/qq16p1Data/UNH.csv  \n",
            "  inflating: Recruitment Problem Files/historicalData/qq16p1Data/UNP.csv  \n",
            "  inflating: Recruitment Problem Files/historicalData/qq16p1Data/UPS.csv  \n",
            "  inflating: Recruitment Problem Files/historicalData/qq16p1Data/VZ.csv  \n",
            "  inflating: Recruitment Problem Files/historicalData/qq16p1Data/WMT.csv  \n",
            "  inflating: Recruitment Problem Files/historicalData/qq16p1Data/XOM.csv  \n",
            "  inflating: Recruitment Problem Files/qq18p1_template_blank.py  \n",
            "  inflating: Recruitment Problem Files/qq18p1_template_sample_approach.py  \n",
            "  inflating: Recruitment Problem Files/requirements.txt  \n"
          ],
          "name": "stdout"
        }
      ]
    },
    {
      "cell_type": "markdown",
      "metadata": {
        "id": "R0-upQYJUgjT"
      },
      "source": [
        "# **Loading the Required Libraray**"
      ]
    },
    {
      "cell_type": "code",
      "metadata": {
        "id": "MQh7YA4235Jr"
      },
      "source": [
        "import pandas_datareader.data as web\n",
        "from matplotlib import pyplot as plt\n",
        "from sklearn.decomposition import PCA \n",
        "\n",
        "import pandas as pd\n",
        "import numpy as np\n",
        "import datetime\n",
        "import os\n",
        "import xgboost\n",
        "from sklearn.metrics import mean_squared_error\n",
        "from sklearn.model_selection import RandomizedSearchCV\n",
        "from sklearn.preprocessing import Normalizer\n",
        "from sklearn.pipeline import make_pipeline\n",
        "from sklearn.cluster import KMeans\n",
        "import pickle"
      ],
      "execution_count": null,
      "outputs": []
    },
    {
      "cell_type": "markdown",
      "metadata": {
        "id": "gnjyKVaqO9VU"
      },
      "source": [
        "## **Loading the Dataset**"
      ]
    },
    {
      "cell_type": "code",
      "metadata": {
        "id": "vjtNS-8FKrjh"
      },
      "source": [
        "#Declare the dataframe.\n",
        "\n",
        "dt = []\n",
        "Clust0 = []\n",
        "Clust1 = []\n",
        "Clust2 = []\n",
        "Clust3 = []\n",
        "Clust4 = []\n",
        "Clust5 = []\n",
        "Clust6 = []\n",
        "Clust7 = []\n",
        "Clust8 = []\n",
        "Clust9 = []\n",
        "df_list = []\n",
        "df_income = []"
      ],
      "execution_count": null,
      "outputs": []
    },
    {
      "cell_type": "code",
      "metadata": {
        "id": "cdZTeWaCIisj"
      },
      "source": [
        "#Loading the dataset from the directory\n",
        "\n",
        "for companies in os.listdir(\"/content/Recruitment Problem Files/historicalData/qq16p1Data\"):\n",
        "  if not companies.strip('').split('.')[0] == '':\n",
        "      dt.append(companies.strip('').split('.')[0])"
      ],
      "execution_count": null,
      "outputs": []
    },
    {
      "cell_type": "markdown",
      "metadata": {
        "id": "bltLfoskP426"
      },
      "source": [
        "# **Clustering the Stocks**\n",
        "\n",
        "1. The data source we'll be using for the companies will be Yahoo Finance and we'll read in the data with pandas-datareader.\n",
        "\n",
        "2. We're also going to define the start and end dates - we're going to use 10 years of data from 2010-01-01 to 2020-01-01. Then we're going to use web.DataReader() to load the companies we're interested in.\n",
        "\n",
        "3. Now let's move on to calculating the daily stock movements, since it's off of this movement that we want to cluster our data. To do this we're first going to convert our stock_open and stock_close values to a numpy array. Also, since these values are currently a column vector for each day we're going to use .T to take the transpose of these and give us row vectors instead.\n",
        "\n",
        "We're then going to create a movements dataset, and we'll start with a blank numpy array filled with 0's for now.\n",
        "\n",
        "We're then going to write a for loop to assign the daily movement (stock_close - stock_open) for all the dates."
      ]
    },
    {
      "cell_type": "code",
      "metadata": {
        "id": "nlsd8k_OX5DB"
      },
      "source": [
        "# Define which online source to use\n",
        "data_source = 'yahoo'\n",
        "\n",
        "# define start and end dates\n",
        "start_date = '2010-01-01'\n",
        "end_date = '2020-01-01'\n",
        "\n",
        "# Use pandas_datareader.data.DataReader to load the desired data list(companies_dict.values()) used for python 3 compatibility\n",
        "panel_data = web.DataReader(list(dt), data_source, start_date, end_date)\n",
        "# Find Stock Open and Close Values\n",
        "stock_close = panel_data['Close']\n",
        "stock_open = panel_data['Open']"
      ],
      "execution_count": null,
      "outputs": []
    },
    {
      "cell_type": "code",
      "metadata": {
        "id": "TATvYjC9WMrf"
      },
      "source": [
        "# Calculate daily stock movement\n",
        "stock_close = np.array(stock_close).T\n",
        "stock_open = np.array(stock_open).T\n",
        "\n",
        "row, col = stock_close.shape\n",
        "\n",
        "# create movements dataset filled with 0's\n",
        "movements = np.zeros([row, col])\n",
        "\n",
        "for i in range(0, row):\n",
        " movements[i,:] = np.subtract(stock_close[i,:], stock_open[i,:])"
      ],
      "execution_count": null,
      "outputs": []
    },
    {
      "cell_type": "markdown",
      "metadata": {
        "id": "FN40mncHSXsj"
      },
      "source": [
        "## **K-Mean Clustering**\n",
        "\n",
        "In this article, we're going to going to train a k-means clustering algorithm to group companies based on their stock market movements over a 10-year period.\n",
        "\n",
        "Even though we've just normalized the data, we're going to use normalize again in a \n",
        "pipeline just to see how pipelines work in scikit-learn. We're then going to apply a K-Means algo with 10 clusters. Finally we'll make a pipeline that chains together the normalizer and the k-means clustering algorithm.\n",
        "\n",
        "\n",
        "We can see we still have some of the tech stocks clustered together, Pharma companies are clustered together, and transport companies also clustered together.\n",
        "\n",
        "But there will be few company which will not be clustered so well but still that are very few."
      ]
    },
    {
      "cell_type": "code",
      "metadata": {
        "id": "D75S-QhKSIee",
        "colab": {
          "base_uri": "https://localhost:8080/",
          "height": 972
        },
        "outputId": "980b08df-7df9-4a0d-b127-1310925b538b"
      },
      "source": [
        "# define normalizer\n",
        "normalizer = Normalizer()\n",
        "\n",
        "# create a K-means model with 10 clusters\n",
        "kmeans = KMeans(n_clusters=10, max_iter=2000)\n",
        "\n",
        "# make a pipeline chaining normalizer and kmeans\n",
        "pipeline = make_pipeline(normalizer,kmeans)\n",
        "# fit pipeline to daily stock movements\n",
        "pipeline.fit(movements)\n",
        "# predict cluster labels\n",
        "labels = pipeline.predict(movements)\n",
        "\n",
        "# create a DataFrame aligning labels & companies\n",
        "df = pd.DataFrame({'labels': labels, 'companies': dt})\n",
        "\n",
        "# display df sorted by cluster labels\n",
        "print(df.sort_values('labels'))\n",
        "df_set=df.set_index(\"companies\")"
      ],
      "execution_count": null,
      "outputs": [
        {
          "output_type": "stream",
          "text": [
            "    labels companies\n",
            "37       0       XOM\n",
            "36       0       COP\n",
            "15       0       CVX\n",
            "10       0       SLB\n",
            "8        0       OXY\n",
            "19       1      BKNG\n",
            "23       1      ADBE\n",
            "24       1      AMZN\n",
            "22       1      MSFT\n",
            "30       1      NVDA\n",
            "33       1      NFLX\n",
            "4        1       TXN\n",
            "34       1        MA\n",
            "20       1      INTC\n",
            "32       2       MMM\n",
            "29       2       HON\n",
            "28       2         F\n",
            "27       2       FDX\n",
            "31       2       TGT\n",
            "0        2       CAT\n",
            "39       2        GE\n",
            "3        2       EMR\n",
            "16       2       UPS\n",
            "48       2       UNP\n",
            "46       2       IBM\n",
            "2        3       DHR\n",
            "45       3       PFE\n",
            "14       3       MRK\n",
            "21       3       JNJ\n",
            "26       3       ABT\n",
            "44       4        CL\n",
            "40       4        MO\n",
            "47       4        KO\n",
            "17       4      MDLZ\n",
            "35       4        PM\n",
            "42       5         T\n",
            "9        5     CMCSA\n",
            "1        5        VZ\n",
            "18       6       MCD\n",
            "41       7       RTN\n",
            "25       7       LMT\n",
            "5        7        GD\n",
            "38       7        BA\n",
            "13       8       WMT\n",
            "12       8       SPG\n",
            "7        8       UNH\n",
            "6        8       CVS\n",
            "49       9       BMY\n",
            "43       9      AMGN\n",
            "11       9      GILD\n",
            "50       9      BIIB\n"
          ],
          "name": "stdout"
        }
      ]
    },
    {
      "cell_type": "markdown",
      "metadata": {
        "id": "rXj-o7BEXDr_"
      },
      "source": [
        "**This snippet of code is responsible for the merging the dataset of those company which are grouped in a same cluster.**"
      ]
    },
    {
      "cell_type": "code",
      "metadata": {
        "id": "l2rSDNUncNTK",
        "colab": {
          "base_uri": "https://localhost:8080/",
          "height": 35
        },
        "outputId": "ac757512-076c-44fb-bed3-ffd3838e9dcf"
      },
      "source": [
        "'''  will be responsible for the merging the dataset of the company which are grouped in a same cluster\n",
        "and for each cluster we are going to train the model on the combined dataset.'''\n",
        "\n",
        "for comp in os.listdir(\"/content/Recruitment Problem Files/historicalData/qq16p1Data\"):\n",
        "  try:\n",
        "    name  = comp.strip().split('.')[0]\n",
        "    df_temp = pd.read_csv(\"/content/Recruitment Problem Files/historicalData/qq16p1Data/\" +comp.strip(),engine='python')\n",
        "    if df_set.loc[name]['labels'] == 0:\n",
        "      #append\n",
        "      Clust0.append(df_temp)\n",
        "    elif df_set.loc[name]['labels'] == 1:\n",
        "      #apped\n",
        "      Clust1.append(df_temp)\n",
        "    elif df_set.loc[name]['labels'] == 2:\n",
        "      #apped\n",
        "      Clust2.append(df_temp)\n",
        "    elif df_set.loc[name]['labels'] == 3:\n",
        "      #apped\n",
        "      Clust3.append(df_temp)\n",
        "    elif df_set.loc[name]['labels'] == 4:\n",
        "      #apped\n",
        "      Clust4.append(df_temp)\n",
        "    elif df_set.loc[name]['labels'] == 5:\n",
        "      #apped\n",
        "      Clust5.append(df_temp)\n",
        "    elif df_set.loc[name]['labels'] == 6:\n",
        "      #apped\n",
        "      Clust6.append(df_temp)\n",
        "    elif df_set.loc[name]['labels'] == 7:\n",
        "      #apped\n",
        "      Clust7.append(df_temp)\n",
        "    elif df_set.loc[name]['labels'] == 8:\n",
        "      #apped\n",
        "      Clust8.append(df_temp)\n",
        "    elif df_set.loc[name]['labels'] == 9:\n",
        "      #apped\n",
        "      Clust9.append(df_temp)\n",
        " \n",
        "  except:\n",
        "    print(comp + 'ye wala error')"
      ],
      "execution_count": null,
      "outputs": [
        {
          "output_type": "stream",
          "text": [
            ".ipynb_checkpointsye wala error\n"
          ],
          "name": "stdout"
        }
      ]
    },
    {
      "cell_type": "markdown",
      "metadata": {
        "id": "chGTZoV-YcC1"
      },
      "source": [
        ""
      ]
    },
    {
      "cell_type": "code",
      "metadata": {
        "id": "jKGFwHRRf7qa"
      },
      "source": [
        "#Separate the class label from the dataset ie. Revenue, income class label. \n",
        "#And fill the 'inf' value with the '0' because droping them was not a good idea since we \n",
        "#already have less data and so model will not be able to train so well.\n",
        "\n",
        "clust0 = pd.concat(Clust0,ignore_index='TRUE')\n",
        "clust1 = pd.concat(Clust1,ignore_index='TRUE')\n",
        "clust2 = pd.concat(Clust2,ignore_index='TRUE')\n",
        "clust3 = pd.concat(Clust3,ignore_index='TRUE')\n",
        "clust4 = pd.concat(Clust4,ignore_index='TRUE')\n",
        "clust5 = pd.concat(Clust5,ignore_index='TRUE')\n",
        "clust6 = pd.concat(Clust6,ignore_index='TRUE')\n",
        "clust7 = pd.concat(Clust7,ignore_index='TRUE')\n",
        "clust8 = pd.concat(Clust8,ignore_index='TRUE')\n",
        "clust9 = pd.concat(Clust9,ignore_index='TRUE')\n",
        "\n",
        "\n",
        "\n",
        "clust0 = clust0.replace([np.inf, -np.inf], np.nan)\n",
        "clust1 = clust1.replace([np.inf, -np.inf], np.nan)\n",
        "clust2 = clust2.replace([np.inf, -np.inf], np.nan)\n",
        "clust3 = clust3.replace([np.inf, -np.inf], np.nan)\n",
        "clust4 = clust4.replace([np.inf, -np.inf], np.nan)\n",
        "clust5 = clust5.replace([np.inf, -np.inf], np.nan)\n",
        "clust6 = clust6.replace([np.inf, -np.inf], np.nan)\n",
        "clust7 = clust7.replace([np.inf, -np.inf], np.nan)\n",
        "clust8 = clust8.replace([np.inf, -np.inf], np.nan)\n",
        "clust9 = clust9.replace([np.inf, -np.inf], np.nan)\n",
        "\n",
        "\n",
        "clust0 =clust0.fillna(0)\n",
        "clust1 =clust1.fillna(0)\n",
        "clust2 =clust2.fillna(0)\n",
        "clust3 =clust3.fillna(0)\n",
        "clust4 =clust4.fillna(0)\n",
        "clust5 =clust5.fillna(0)\n",
        "clust6 =clust6.fillna(0)\n",
        "clust7 =clust7.fillna(0)\n",
        "clust8 =clust8.fillna(0)\n",
        "clust9 =clust9.fillna(0)\n",
        "\n",
        "\n",
        "clust0 = clust0.drop([\"time\"],axis=1)\n",
        "clust1 = clust1.drop([\"time\"],axis=1)\n",
        "clust2 = clust2.drop([\"time\"],axis=1)\n",
        "clust3 = clust3.drop([\"time\"],axis=1)\n",
        "clust4 = clust4.drop([\"time\"],axis=1)\n",
        "clust5 = clust5.drop([\"time\"],axis=1)\n",
        "clust6 = clust6.drop([\"time\"],axis=1)\n",
        "clust7 = clust7.drop([\"time\"],axis=1)\n",
        "clust8 = clust8.drop([\"time\"],axis=1)\n",
        "clust9 = clust9.drop([\"time\"],axis=1)\n",
        "\n",
        "clust_0_income = clust0['Income(Y)']\n",
        "clust_1_income = clust1['Income(Y)']\n",
        "clust_2_income = clust2['Income(Y)']\n",
        "clust_3_income = clust3['Income(Y)']\n",
        "clust_4_income = clust4['Income(Y)']\n",
        "clust_5_income = clust5['Income(Y)']\n",
        "clust_6_income = clust6['Income(Y)']\n",
        "clust_7_income = clust7['Income(Y)']\n",
        "clust_8_income = clust8['Income(Y)']\n",
        "clust_9_income = clust9['Income(Y)']\n",
        "\n",
        "\n",
        "clust_0_revenue  = clust0['Revenue(Y)']\n",
        "clust_1_revenue  = clust1['Revenue(Y)']\n",
        "clust_2_revenue  = clust2['Revenue(Y)']\n",
        "clust_3_revenue  = clust3['Revenue(Y)']\n",
        "clust_4_revenue  = clust4['Revenue(Y)']\n",
        "clust_5_revenue  = clust5['Revenue(Y)']\n",
        "clust_6_revenue  = clust6['Revenue(Y)']\n",
        "clust_7_revenue  = clust7['Revenue(Y)']\n",
        "clust_8_revenue  = clust8['Revenue(Y)']\n",
        "clust_9_revenue  = clust9['Revenue(Y)']\n",
        "\n",
        "\n",
        "\n",
        "    \n",
        "\n",
        "clust0 = clust0.drop(['Income(Y)','Revenue(Y)'],axis=1)\n",
        "clust1 = clust1.drop(['Income(Y)','Revenue(Y)'],axis=1)\n",
        "clust2 = clust2.drop(['Income(Y)','Revenue(Y)'],axis=1)\n",
        "clust3 = clust3.drop(['Income(Y)','Revenue(Y)'],axis=1)\n",
        "clust4 = clust4.drop(['Income(Y)','Revenue(Y)'],axis=1)\n",
        "clust5 = clust5.drop(['Income(Y)','Revenue(Y)'],axis=1)\n",
        "clust6 = clust6.drop(['Income(Y)','Revenue(Y)'],axis=1)\n",
        "clust7 = clust7.drop(['Income(Y)','Revenue(Y)'],axis=1)\n",
        "clust8 = clust8.drop(['Income(Y)','Revenue(Y)'],axis=1)\n",
        "clust9 = clust9.drop(['Income(Y)','Revenue(Y)'],axis=1)"
      ],
      "execution_count": null,
      "outputs": []
    },
    {
      "cell_type": "markdown",
      "metadata": {
        "id": "XDIiW7ogVvfa"
      },
      "source": [
        "# **PCA:** \n",
        "We are now going to do a linear dimensionality reduction using singular value decomposition of the data.\n",
        "\n",
        "We're going to do this to project it to a lower dimensional space so that we can graphically represent the different clusters.\n",
        "\n",
        "We're first going to use PCA from sklearn.decomposition on every cluster taht we have\n",
        "\n",
        "But How we decide, to which extent we should reduce our dimension of our data? For this we have used **\"expalined_variance\"**, **\"percentage_var_exp\"** ,  \"**cum_var_explained**\" parameter from PCA which tells us ho many features are \n",
        "\n",
        "**For every cluster the 100% of the variance is going to explained with only 5 features and thats Why i have reduced my 300 features to 5 features without loosing any information. As you can see in the above graph.**\n",
        "\n",
        "[PCA YouTube Link for the refernce](https://youtu.be/l28O3M0gv6w)"
      ]
    },
    {
      "cell_type": "code",
      "metadata": {
        "id": "Yz7_oIGHc-Nv",
        "colab": {
          "base_uri": "https://localhost:8080/",
          "height": 1000
        },
        "outputId": "6374b003-dbbf-457e-eeb4-f3e67ba421e7"
      },
      "source": [
        "df_list = []\n",
        "clust_list = [clust0,clust1,clust2,clust3,clust4,clust5,clust6,clust7,clust8,clust9]\n",
        "\n",
        "for i in clust_list:\n",
        "  pca = PCA(n_components=5)\n",
        "  tmp = pca.fit_transform(i)\n",
        "  df_list.append(tmp)\n",
        "  percentage_var_exp = pca.explained_variance_/np.sum(pca.explained_variance_)\n",
        "  cum_var_explained = np.cumsum(percentage_var_exp)\n",
        "\n",
        "\n",
        "  plt.figure(1,figsize = (6,4))\n",
        "  plt.clf()\n",
        "  plt.plot(cum_var_explained, linewidth=2)\n",
        "  plt.axis('tight')\n",
        "  plt.grid()\n",
        "  plt.xlabel('n_components')\n",
        "  plt.ylabel('cum_explained_variable')\n",
        "  plt.show()"
      ],
      "execution_count": null,
      "outputs": [
        {
          "output_type": "display_data",
          "data": {
            "image/png": "[encoded data removed]",
            "text/plain": [
              "<Figure size 432x288 with 1 Axes>"
            ]
          },
          "metadata": {
            "tags": [],
            "needs_background": "light"
          }
        },
        {
          "output_type": "display_data",
          "data": {
            "image/png": "[encoded data removed]",
            "text/plain": [
              "<Figure size 432x288 with 1 Axes>"
            ]
          },
          "metadata": {
            "tags": [],
            "needs_background": "light"
          }
        },
        {
          "output_type": "display_data",
          "data": {
            "image/png": "[encoded data removed]",
            "text/plain": [
              "<Figure size 432x288 with 1 Axes>"
            ]
          },
          "metadata": {
            "tags": [],
            "needs_background": "light"
          }
        },
        {
          "output_type": "display_data",
          "data": {
            "image/png": "[encoded data removed]",
            "text/plain": [
              "<Figure size 432x288 with 1 Axes>"
            ]
          },
          "metadata": {
            "tags": [],
            "needs_background": "light"
          }
        },
        {
          "output_type": "display_data",
          "data": {
            "image/png": "[encoded data removed]",
            "text/plain": [
              "<Figure size 432x288 with 1 Axes>"
            ]
          },
          "metadata": {
            "tags": [],
            "needs_background": "light"
          }
        },
        {
          "output_type": "display_data",
          "data": {
            "image/png": "[encoded data removed]",
            "text/plain": [
              "<Figure size 432x288 with 1 Axes>"
            ]
          },
          "metadata": {
            "tags": [],
            "needs_background": "light"
          }
        },
        {
          "output_type": "display_data",
          "data": {
            "image/png": "[encoded data removed]",
            "text/plain": [
              "<Figure size 432x288 with 1 Axes>"
            ]
          },
          "metadata": {
            "tags": [],
            "needs_background": "light"
          }
        },
        {
          "output_type": "display_data",
          "data": {
            "image/png": "[encoded data removed]",
            "text/plain": [
              "<Figure size 432x288 with 1 Axes>"
            ]
          },
          "metadata": {
            "tags": [],
            "needs_background": "light"
          }
        },
        {
          "output_type": "display_data",
          "data": {
            "image/png": "[encoded data removed]",
            "text/plain": [
              "<Figure size 432x288 with 1 Axes>"
            ]
          },
          "metadata": {
            "tags": [],
            "needs_background": "light"
          }
        },
        {
          "output_type": "display_data",
          "data": {
            "image/png": "[encoded data removed]",
            "text/plain": [
              "<Figure size 432x288 with 1 Axes>"
            ]
          },
          "metadata": {
            "tags": [],
            "needs_background": "light"
          }
        }
      ]
    },
    {
      "cell_type": "code",
      "metadata": {
        "id": "1bppPVxUk_i_",
        "colab": {
          "base_uri": "https://localhost:8080/",
          "height": 256
        },
        "outputId": "ad6dd042-a854-4ab4-a97a-34a0a069e3c9"
      },
      "source": [
        "df_list[0]"
      ],
      "execution_count": null,
      "outputs": [
        {
          "output_type": "execute_result",
          "data": {
            "text/plain": [
              "array([[-9.20673202e+04, -9.59160804e+03, -6.13565797e+01,\n",
              "        -2.56940725e+01, -2.67798812e+00],\n",
              "       [-9.20672602e+04, -9.59174037e+03, -6.12164284e+01,\n",
              "        -2.64971745e+01, -2.71752404e+00],\n",
              "       [-9.20670322e+04, -9.59180015e+03, -6.03563650e+01,\n",
              "        -2.62516045e+01, -2.76411308e+00],\n",
              "       ...,\n",
              "       [-9.19934456e+04, -9.58115847e+03,  2.44771466e+02,\n",
              "         3.67284476e+01,  1.48024917e+00],\n",
              "       [-9.19931060e+04, -9.56986475e+03,  1.99644651e+02,\n",
              "         3.47766116e+01,  3.80488524e+00],\n",
              "       [-9.19852590e+04, -9.57877014e+03,  2.18277380e+02,\n",
              "         2.30525475e+01, -8.16178922e-01]])"
            ]
          },
          "metadata": {
            "tags": []
          },
          "execution_count": 37
        }
      ]
    },
    {
      "cell_type": "markdown",
      "metadata": {
        "id": "4sjs14jScCkt"
      },
      "source": [
        "# **Model Building:**"
      ]
    },
    {
      "cell_type": "markdown",
      "metadata": {
        "id": "EsAd3HbMik0H"
      },
      "source": [
        "0. we have 10 clusters and so we have to build 10 model.\n",
        "\n",
        "1. Income_Y contains the list of class label of repective cluster eg: clust_0_income contains the class label(income) of cluster 0. And similary Revenue_Y also.\n",
        "\n",
        "2. create_model() function actually a xgboostregressor model in which i have used Hyperparameter optimization using randomizedsearchCV.\n",
        "I have also used Linear regression but for many clusters it was giving worst result.\n",
        "3. We are performing hyperperameter tuning for each cluster separately because each clusters have different kind of companies list and so each can have different factors which affect the companies future Income and revenue evaluation.\n",
        "\n",
        "**Note: I have made function sucha a way that we should know, to which cluster our test data should belongs to and Below for this instance I have made the categories of clusters eg:clusters_0 -> Pharmaceutical .**"
      ]
    },
    {
      "cell_type": "code",
      "metadata": {
        "id": "uUdb2xq03Mc_"
      },
      "source": [
        "Income_Y = [clust_0_income,clust_1_income,clust_2_income,clust_3_income,clust_4_income,\n",
        "            clust_5_income,clust_6_income,clust_7_income,clust_9_income]\n",
        "Revenue_Y = [clust_0_revenue,clust_1_revenue,clust_2_revenue,clust_3_revenue,clust_4_revenue,\n",
        "              clust_5_revenue,clust_6_revenue,clust_7_revenue,clust_8_revenue,clust_9_revenue]"
      ],
      "execution_count": null,
      "outputs": []
    },
    {
      "cell_type": "code",
      "metadata": {
        "id": "ggUG052TsZ2G"
      },
      "source": [
        "def create_model(X,Y):\n",
        "  ## Hyper Parameter Optimization\n",
        "  regressor=xgboost.XGBRegressor()\n",
        "  n_estimators = [100, 500, 900, 1100, 1500]\n",
        "  max_depth = [2, 3, 5, 10, 15]\n",
        "  booster=['gbtree','gblinear']\n",
        "  learning_rate=[0.05,0.1,0.15,0.20]\n",
        "  min_child_weight=[1,2,3,4]\n",
        "  base_score=[0.25,0.5,0.75,1]\n",
        "  # Define the grid of hyperparameters to search\n",
        "  hyperparameter_grid = {\n",
        "      'n_estimators': n_estimators,\n",
        "      'max_depth':max_depth,\n",
        "      'learning_rate':learning_rate,\n",
        "      'min_child_weight':min_child_weight,\n",
        "      'booster':booster,\n",
        "      'base_score':base_score\n",
        "     }\n",
        "\n",
        "\n",
        "\n",
        "# Set up the random search with 4-fold cross validation\n",
        "  random_cv = RandomizedSearchCV(estimator=regressor,\n",
        "            param_distributions=hyperparameter_grid,\n",
        "            cv=5, n_iter=50,\n",
        "            scoring = 'neg_mean_absolute_error',n_jobs = 4,\n",
        "            verbose = 5, \n",
        "            return_train_score = True,\n",
        "            random_state=42)\n",
        "\n",
        "  random_cv.fit(X,Y)\n",
        "  regressor=xgboost.XGBRegressor(regressor = random_cv.best_estimator_)\n",
        "  regressor.fit(X,Y)\n",
        "  return regressor\n",
        "  \n",
        "\n",
        "  \n",
        "\n",
        "  # filename = 'finalized_model.pkl'\n",
        "  # pickle.dump(classifier, open(filename, 'wb'))"
      ],
      "execution_count": null,
      "outputs": []
    },
    {
      "cell_type": "code",
      "metadata": {
        "id": "BbE5vQ61tELN"
      },
      "source": [
        "def get_pred(model,X):\n",
        "  y = model.predict(X)\n",
        "  return y"
      ],
      "execution_count": null,
      "outputs": []
    },
    {
      "cell_type": "code",
      "metadata": {
        "id": "93dMwUGjuJtb"
      },
      "source": [
        "#function to get income prediction\n",
        "#parameters:\n",
        "# X-> company data (X can only have numerical values and cannot have nan/inf values)\n",
        "# cluster_type -> can be one of the following integer values corresponding to inustry types:\n",
        "# 0 -> Pharmaceutical\n",
        "# 1 -> Health/Insurance\n",
        "# 2 -> Information Technology\n",
        "# 3 -> Energy\n",
        "# 4 -> Retail chain\n",
        "# 5 -> Electronics\n",
        "# 6 -> Logistics\n",
        "# 7 -> Defense\n",
        "# 8 -> Real Estate\n",
        "# 9 -> Food and Beverages\n",
        "def get_income(X,cluster_type):\n",
        "  pca = PCA(n_components=5)\n",
        "  X_ = pca.fit_transform(X)\n",
        "  model=create_model(df_list[cluster_type],Income_Y[cluster_type])\n",
        "  return get_pred(model,X_)"
      ],
      "execution_count": null,
      "outputs": []
    },
    {
      "cell_type": "code",
      "metadata": {
        "id": "XY9AlD1T27zM"
      },
      "source": [
        "#function to get revenue prediction\n",
        "#parameters:\n",
        "# X-> company data (X can only have numerical values and cannot have nan/inf values)\n",
        "# cluster_type -> can be one of the following integer values corresponding to inustry types:\n",
        "# 0 -> Pharmaceutical\n",
        "# 1 -> Health/Insurance\n",
        "# 2 -> Information Technology\n",
        "# 3 -> Energy\n",
        "# 4 -> Retail chain\n",
        "# 5 -> Electronics\n",
        "# 6 -> Logistics\n",
        "# 7 -> Defense\n",
        "# 8 -> Real Estate\n",
        "# 9 -> Food and Beverages\n",
        "def get_revenue(X,cluster_type):\n",
        "  pca = PCA(n_components=5)\n",
        "  X_ = pca.fit_transform(X)\n",
        "  model=create_model(df_list[cluster_type],Revenue_Y[cluster_type])\n",
        "  return get_pred(model,X_)"
      ],
      "execution_count": null,
      "outputs": []
    },
    {
      "cell_type": "code",
      "metadata": {
        "id": "85AmZk3S5nrr",
        "colab": {
          "base_uri": "https://localhost:8080/",
          "height": 1000
        },
        "outputId": "e49d2676-d156-4ef1-d7d1-e4a1b05f5e5e"
      },
      "source": [
        "#TESTING FUNCTION FOR REVENUE PREDICTION\n",
        "\n",
        "#########################################################################################\n",
        "# get_revenue function takes two arguments:                                             #\n",
        "# 1. df_list represent the list of clusters that we have build earlier                  #                    # \n",
        "#    which means df_list[0] have processed data of cluster_0.                           #\n",
        "# 2. second arguments represents the cluster label or which cluster it belongs to       #                      #\n",
        "#########################################################################################\n",
        "\n",
        "# Note: for testing we should know first, to which cluster our test data belongs to.\n",
        "out=get_revenue(df_list[0],0)\n",
        "def mean_squared_error_custom(truth, predicted):\n",
        "  m = truth.shape[0]\n",
        "  mse = (np.sum((predicted - truth)**2)) / (2*m)\n",
        "  return mse\n",
        "print(\"Mean squared error for revenue\")\n",
        "print(mean_squared_error_custom(Revenue_Y[0], out))\n",
        "print(out)"
      ],
      "execution_count": null,
      "outputs": [
        {
          "output_type": "stream",
          "text": [
            "Fitting 5 folds for each of 50 candidates, totalling 250 fits\n"
          ],
          "name": "stdout"
        },
        {
          "output_type": "stream",
          "text": [
            "[Parallel(n_jobs=4)]: Using backend LokyBackend with 4 concurrent workers.\n",
            "[Parallel(n_jobs=4)]: Done  10 tasks      | elapsed:    2.8s\n",
            "[Parallel(n_jobs=4)]: Done  64 tasks      | elapsed:   12.3s\n",
            "[Parallel(n_jobs=4)]: Done 154 tasks      | elapsed:   21.5s\n"
          ],
          "name": "stderr"
        },
        {
          "output_type": "stream",
          "text": [
            "[16:46:36] WARNING: /workspace/src/objective/regression_obj.cu:152: reg:linear is now deprecated in favor of reg:squarederror.\n",
            "[16:46:36] WARNING: /workspace/src/objective/regression_obj.cu:152: reg:linear is now deprecated in favor of reg:squarederror.\n",
            "Mean squared error for revenue\n",
            "0.006595002546105576\n",
            "[ 5.7050037e-01  4.2336792e-01  4.7036779e-01  4.9043384e-01\n",
            "  4.7999990e-01  4.1603997e-01  4.9278212e-01  4.4967088e-01\n",
            "  6.3256294e-01  4.8301062e-01  4.6079817e-01  5.0382763e-01\n",
            "  4.8704961e-01  6.1165875e-01  6.0765094e-01  5.1232147e-01\n",
            "  6.2377340e-01  3.9236289e-01  3.9236289e-01  5.6044233e-01\n",
            "  5.3331256e-01  4.3913621e-01  4.1461957e-01  4.3628472e-01\n",
            "  3.8195267e-01  4.0602520e-01  3.6629933e-01  4.7101146e-01\n",
            "  3.2599527e-01  3.2204437e-01  3.1502581e-01  3.8568014e-01\n",
            "  3.7857634e-01  3.1458789e-01  4.9632931e-01  3.6124647e-01\n",
            "  4.5738941e-01  5.0318795e-01  4.7441053e-01  4.1299969e-01\n",
            "  4.9524459e-01  5.0213617e-01  5.0893432e-01  5.3067166e-01\n",
            "  6.5084761e-01  6.8004030e-01  6.4520603e-01  6.8864810e-01\n",
            "  7.3667943e-01  7.2532213e-01  7.4879438e-01  7.2532213e-01\n",
            "  6.8890065e-01  7.0377672e-01  7.8377718e-01  7.7987409e-01\n",
            "  7.7408063e-01  7.5512964e-01  7.8634793e-01  7.7902102e-01\n",
            "  5.7877141e-01  5.5036360e-01  5.8338201e-01  4.9945247e-01\n",
            "  4.6992725e-01  4.4763124e-01  4.0257001e-01  4.6991050e-01\n",
            "  4.6115470e-01  4.6115470e-01  5.7000971e-01  5.7310402e-01\n",
            "  1.8259348e+00  2.0391583e+00  1.8433406e+00  1.9295049e+00\n",
            "  1.9821469e+00  2.0390718e+00  2.1828980e+00  2.2817354e+00\n",
            "  2.4628620e+00  2.3726473e+00  2.3682137e+00  2.4204340e+00\n",
            "  2.3497062e+00  2.3128011e+00  2.2513876e+00  2.2694073e+00\n",
            "  2.2408872e+00  1.9708368e+00  2.0738721e+00  1.8588530e+00\n",
            "  1.8283103e+00  1.7563672e+00  1.6695760e+00  1.5318645e+00\n",
            "  1.5318645e+00  1.1195672e+00  1.1324193e+00  1.1970356e+00\n",
            "  1.1965053e+00  1.2199869e+00  1.3812162e+00  1.2022572e+00\n",
            "  1.3561319e+00  1.5603774e+00  1.5575467e+00  1.6209846e+00\n",
            "  3.1105504e+00  3.4590316e+00  3.6499341e+00  3.6412120e+00\n",
            "  1.2700844e+00  1.3568764e+00  3.0837059e-03 -4.7023517e-01\n",
            "  1.2407999e+00  6.2713003e-01  3.9250320e-01  3.4325317e-01\n",
            "  1.2107540e+00  8.9663720e-01  1.0230818e+00  8.9101219e-01\n",
            "  1.1251490e+00  1.0744298e+00  1.1341927e+00  1.0477124e+00\n",
            "  8.9643657e-01  9.2323136e-01  9.1037917e-01  8.9075053e-01\n",
            "  7.6351738e-01  4.8205137e-01  5.0347036e-01  4.6432304e-01\n",
            "  5.1927149e-01  6.1803663e-01  6.2408930e-01  5.8072197e-01\n",
            "  5.8157146e-01  6.0583901e-01  6.1844563e-01  6.3905752e-01\n",
            "  1.5258014e+00  1.5036273e+00  1.4438643e+00  1.6425025e+00\n",
            "  1.7167076e+00  1.8410963e+00  1.7909893e+00  1.8801100e+00\n",
            "  1.9595699e+00  1.8738732e+00  1.8738732e+00  1.8409071e+00\n",
            "  1.8052812e+00  1.8011563e+00  1.8011563e+00  1.7894174e+00\n",
            "  1.5423858e+00  1.5271720e+00  1.5271720e+00  1.4515977e+00\n",
            "  1.4137495e+00  1.4137495e+00  1.3263673e+00  1.3284917e+00\n",
            "  1.0137765e+00  1.1148098e+00  9.2890877e-01  9.6326399e-01\n",
            "  9.0096295e-01  9.2521763e-01  9.7128057e-01  9.7128057e-01\n",
            "  9.8569101e-01  9.7430724e-01  1.0759524e+00  1.0416852e+00]\n"
          ],
          "name": "stdout"
        },
        {
          "output_type": "stream",
          "text": [
            "[Parallel(n_jobs=4)]: Done 250 out of 250 | elapsed:   39.1s finished\n"
          ],
          "name": "stderr"
        }
      ]
    },
    {
      "cell_type": "markdown",
      "metadata": {
        "id": "ET5JnHgkOBhr"
      },
      "source": [
        "**Conclusion : We have tested our model as cluster_0 as our test data and we are trying to predict the Income and so we have mse = 0.006595002546105576**"
      ]
    },
    {
      "cell_type": "code",
      "metadata": {
        "id": "VAKvvPk36BNK",
        "colab": {
          "base_uri": "https://localhost:8080/",
          "height": 772
        },
        "outputId": "ddd2da52-feba-4464-c25b-a49f1ed0576b"
      },
      "source": [
        "#TESTING FUNCTION FOR INCOME PREDICTION\n",
        "\n",
        "#########################################################################################\n",
        "# get_revenue function takes two arguments:                                             #\n",
        "# 1. df_list represent the list of clusters that we have build earlier                  #                    # \n",
        "#    which means df_list[0] have processed data of cluster_0.                           #\n",
        "# 2. second arguments represents the cluster label or which cluster it belongs to       #                      #\n",
        "#########################################################################################\n",
        "\n",
        "# Note: for testing we should know first, to which cluster our test data belongs to.\n",
        "out=get_income(df_list[0],0)\n",
        "def mean_squared_error_custom(truth, predicted):\n",
        "  m = truth.shape[0]\n",
        "  mse = (np.sum((predicted - truth)**2)) / (2*m)\n",
        "  return mse\n",
        "print(\"Mean squared error for revenue\")\n",
        "print(mean_squared_error_custom(Revenue_Y[0], out))\n",
        "print(out)"
      ],
      "execution_count": null,
      "outputs": [
        {
          "output_type": "stream",
          "text": [
            "Fitting 5 folds for each of 50 candidates, totalling 250 fits\n"
          ],
          "name": "stdout"
        },
        {
          "output_type": "stream",
          "text": [
            "[Parallel(n_jobs=4)]: Using backend LokyBackend with 4 concurrent workers.\n",
            "[Parallel(n_jobs=4)]: Done  10 tasks      | elapsed:    5.1s\n",
            "[Parallel(n_jobs=4)]: Done  64 tasks      | elapsed:   13.7s\n",
            "[Parallel(n_jobs=4)]: Done 154 tasks      | elapsed:   22.7s\n"
          ],
          "name": "stderr"
        },
        {
          "output_type": "stream",
          "text": [
            "[17:36:18] WARNING: /workspace/src/objective/regression_obj.cu:152: reg:linear is now deprecated in favor of reg:squarederror.\n",
            "[17:36:19] WARNING: /workspace/src/objective/regression_obj.cu:152: reg:linear is now deprecated in favor of reg:squarederror.\n",
            "Mean squared error for revenue\n",
            "0.5207882791074183\n",
            "[0.20421708 0.17082292 0.19876227 0.19741422 0.21353021 0.23358545\n",
            " 0.26563662 0.26652855 0.2783613  0.2876833  0.2723975  0.26101533\n",
            " 0.26360488 0.26015288 0.26567063 0.26854822 0.2561962  0.2276276\n",
            " 0.23536178 0.22075027 0.23589659 0.22458106 0.20853272 0.20138496\n",
            " 0.12649381 0.11535034 0.1094012  0.14342952 0.10765368 0.09431332\n",
            " 0.13413799 0.16420037 0.1180214  0.1288495  0.19104004 0.17848983\n",
            " 0.13730589 0.13465777 0.13465777 0.12033102 0.12842017 0.14903742\n",
            " 0.16012737 0.17296949 0.17681983 0.19008431 0.19285232 0.16256368\n",
            " 0.20946169 0.21225253 0.20632014 0.20436919 0.21428004 0.2114892\n",
            " 0.22923315 0.23157918 0.2355735  0.21667728 0.21667728 0.21667728\n",
            " 0.16149935 0.15882131 0.15798107 0.14737305 0.12373352 0.12054861\n",
            " 0.10189557 0.11715981 0.11452419 0.11551952 0.13218597 0.11887029\n",
            " 0.3565917  0.37561506 0.36236504 0.40266395 0.41231304 0.4558475\n",
            " 0.4754748  0.50666517 0.5118451  0.49672267 0.4937242  0.49677205\n",
            " 0.4779104  0.44237012 0.4374202  0.4174239  0.40124002 0.35566616\n",
            " 0.3888089  0.36291414 0.3064931  0.27216282 0.2249561  0.20029369\n",
            " 0.20485538 0.16408345 0.14891222 0.14166486 0.16008201 0.16850543\n",
            " 0.2089051  0.1999507  0.25200102 0.28182054 0.28766382 0.3451247\n",
            " 0.3829562  0.41758332 0.45620826 0.4785017  0.43713185 0.44040897\n",
            " 0.4255172  0.46939874 0.45437413 0.44635856 0.39572167 0.37781453\n",
            " 0.42321646 0.35484594 0.3767696  0.37642527 0.38680482 0.40843183\n",
            " 0.39558792 0.3382883  0.32164365 0.28208852 0.32811219 0.22191149\n",
            " 0.13663694 0.07181156 0.06160906 0.04516476 0.08367059 0.1704408\n",
            " 0.19087777 0.17838109 0.1903708  0.21563548 0.24776107 0.27394536\n",
            " 0.4849894  0.48190796 0.49786162 0.5084319  0.5050165  0.54914796\n",
            " 0.5566197  0.5780971  0.5846955  0.55921113 0.5300325  0.5345605\n",
            " 0.51264036 0.5150645  0.5069077  0.49061015 0.46387136 0.43116018\n",
            " 0.43116018 0.42129278 0.403818   0.39244136 0.32601008 0.30333832\n",
            " 0.24768135 0.26469815 0.27447024 0.26102495 0.254085   0.26205298\n",
            " 0.2517375  0.258919   0.25123745 0.25537673 0.32267815 0.27868068]\n"
          ],
          "name": "stdout"
        },
        {
          "output_type": "stream",
          "text": [
            "[Parallel(n_jobs=4)]: Done 250 out of 250 | elapsed:   40.6s finished\n"
          ],
          "name": "stderr"
        }
      ]
    },
    {
      "cell_type": "markdown",
      "metadata": {
        "id": "pG7zDD31QAJ9"
      },
      "source": [
        "**Conclusion : We have tested our model as cluster_0 as our test data and we are trying to predict the Income and so we have mse = 0.5207882791074183**"
      ]
    },
    {
      "cell_type": "code",
      "metadata": {
        "id": "mVpUbBWlBVvc"
      },
      "source": [
        ""
      ],
      "execution_count": null,
      "outputs": []
    },
    {
      "cell_type": "markdown",
      "metadata": {
        "id": "3sWUECmZQgV3"
      },
      "source": [
        "REFERENCE'S\n",
        "\n",
        "1. Applied AI Youtube video for PCA \n",
        "2. Krish Naik yotube video\n",
        "3. Few Technical blog's for stock market understanding.\n",
        "4. Random articles.\n"
      ]
    },
    {
      "cell_type": "code",
      "metadata": {
        "id": "L4h8BMunQjJE"
      },
      "source": [
        ""
      ],
      "execution_count": null,
      "outputs": []
    }
  ]
}